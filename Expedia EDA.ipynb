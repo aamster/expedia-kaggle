{
 "cells": [
  {
   "cell_type": "code",
   "execution_count": null,
   "metadata": {},
   "outputs": [],
   "source": [
    "import pandas as pd\n",
    "import numpy as np\n",
    "from plotly import express as px\n",
    "import plotly.graph_objects as go"
   ]
  },
  {
   "cell_type": "code",
   "execution_count": null,
   "metadata": {},
   "outputs": [],
   "source": [
    "train = pd.read_csv('/Users/adamamster/Downloads/expedia-hotel-recommendations/train.csv', \n",
    "                    parse_dates=['date_time'])\n",
    "destinations = pd.read_csv('/Users/adamamster/Downloads/expedia-hotel-recommendations/destinations.csv')"
   ]
  },
  {
   "cell_type": "code",
   "execution_count": null,
   "metadata": {},
   "outputs": [],
   "source": [
    "def preprocess():\n",
    "    date_part_srch_ci = train['srch_ci'][train['srch_ci'].notnull()].apply(lambda x: int(x[:4]))\n",
    "    train.loc[date_part_srch_ci[date_part_srch_ci > 2020].index, 'srch_ci'] = np.nan \n",
    "    \n",
    "    date_part_srch_co = train['srch_co'][train['srch_co'].notnull()].apply(lambda x: int(x[:4]))\n",
    "    train.loc[date_part_srch_co[date_part_srch_co > 2020].index, 'srch_co'] = np.nan \n",
    "    \n",
    "    train['srch_ci'] = pd.to_datetime(train['srch_ci'])\n",
    "    train['srch_co'] = pd.to_datetime(train['srch_co'])\n",
    "preprocess()"
   ]
  },
  {
   "cell_type": "code",
   "execution_count": null,
   "metadata": {},
   "outputs": [],
   "source": [
    "def feature_engineering():\n",
    "    train['srch_duration'] = (train['srch_co'] - train['srch_ci']).dt.days\n",
    "    train.loc[train['srch_duration'] < 0, 'srch_duration'] = np.nan\n",
    "    \n",
    "    train['has_kids'] = train['srch_children_cnt'] > 0\n",
    "    train['num people'] = train['srch_adults_cnt'] + train['srch_children_cnt']\n",
    "feature_engineering()"
   ]
  },
  {
   "cell_type": "code",
   "execution_count": null,
   "metadata": {},
   "outputs": [],
   "source": [
    "train.info()"
   ]
  },
  {
   "cell_type": "code",
   "execution_count": null,
   "metadata": {},
   "outputs": [],
   "source": [
    "destinations.info()"
   ]
  },
  {
   "cell_type": "code",
   "execution_count": null,
   "metadata": {},
   "outputs": [],
   "source": [
    "user_num_booking = train.groupby('user_id')['is_booking'].sum()\n",
    "user_num_booking[user_num_booking == 0].shape[0] / user_num_booking.shape[0]"
   ]
  },
  {
   "cell_type": "code",
   "execution_count": null,
   "metadata": {},
   "outputs": [],
   "source": [
    "train['is_booking'].mean()"
   ]
  },
  {
   "cell_type": "code",
   "execution_count": null,
   "metadata": {},
   "outputs": [],
   "source": [
    "user_event_num = train.groupby('user_id').size().reset_index().rename(columns={0: 'Num. events'})\n",
    "user_event_num['User did book'] = user_num_booking != 0\n",
    "fig = px.histogram(user_event_num,  x='Num. events', color='User did book', nbins=50, histnorm='percent', \n",
    "                  title='Number of events')\n",
    "fig['layout']['yaxis']['title'] = 'percent'\n",
    "fig.show()"
   ]
  },
  {
   "cell_type": "code",
   "execution_count": null,
   "metadata": {},
   "outputs": [],
   "source": [
    "def plot_num_bookings_distr():\n",
    "    df = user_num_booking[user_num_booking > 0].reset_index() \\\n",
    "        .rename(columns={'is_booking': 'Num. bookings'})\n",
    "    fig = px.histogram(df, x='Num. bookings', histnorm='percent', nbins=50, \n",
    "                       title='Number of bookings for users who made at least 1 booking')\n",
    "    fig['layout']['yaxis']['title'] = 'percent'\n",
    "    return fig\n",
    "plot_num_bookings_distr()"
   ]
  },
  {
   "cell_type": "code",
   "execution_count": null,
   "metadata": {},
   "outputs": [],
   "source": [
    "def plot_bookings_over_time():\n",
    "    num_bookings = train.groupby(train['date_time'].dt.date)['is_booking'].sum()\n",
    "    num_clicks = train.groupby(train['date_time'].dt.date).size() - num_bookings\n",
    "    df = pd.DataFrame({'num bookings': num_bookings, 'num clicks': num_clicks, 'date': num_bookings.index})\n",
    "    df = df.melt(id_vars='date')\n",
    "    fig = px.line(df, x='date', y='value', facet_row='variable', color='variable', title='Num bookings over time')\n",
    "    fig.update_yaxes(matches=None)\n",
    "    return fig\n",
    "plot_bookings_over_time()"
   ]
  },
  {
   "cell_type": "code",
   "execution_count": null,
   "metadata": {},
   "outputs": [],
   "source": [
    "def plot_book_rate_over_time():\n",
    "    df = train.groupby(train['date_time'].dt.date)['is_booking'].mean() \\\n",
    "        .reset_index().rename(columns={'is_booking': 'book rate', 'date_time': 'date'})\n",
    "    fig = px.line(df, x='date', y='book rate', title='Book rate over time')\n",
    "    return fig\n",
    "plot_book_rate_over_time()"
   ]
  },
  {
   "cell_type": "code",
   "execution_count": null,
   "metadata": {},
   "outputs": [],
   "source": [
    "def plot_hotel_cluster_popularity():\n",
    "    total_books = train['is_booking'].sum()\n",
    "    total_clicks = train.shape[0] - total_books\n",
    "    click_rate = (train.groupby('hotel_cluster').size() / total_clicks) \\\n",
    "        .reset_index().rename(columns={0: 'click rate'})\n",
    "    book_rate = (train.groupby('hotel_cluster')['is_booking'].sum() / total_books) \\\n",
    "        .reset_index().rename(columns={'is_booking': 'book rate'})\n",
    "    conversion_rate = train.groupby('hotel_cluster')['is_booking'].mean().reset_index() \\\n",
    "        .rename(columns={'is_booking': 'conversion rate'})\n",
    "    df = pd.DataFrame({'click rate': click_rate['click rate'], 'book rate': book_rate['book rate'], \n",
    "                       'conversion rate': conversion_rate['conversion rate'],\n",
    "                      'hotel cluster': click_rate['hotel_cluster']})\n",
    "    df = df.melt(id_vars='hotel cluster')\n",
    "    df = df.set_index('hotel cluster')\n",
    "    \n",
    "    category_order = df[df['variable'] == 'book rate'].sort_values('value', ascending=False).index\n",
    "    df = df.loc[category_order]\n",
    "\n",
    "    fig = px.bar(df, x=df.index, y='value', color='variable', title='Hotel popularity')\n",
    "    fig.update_xaxes(type='category')\n",
    "\n",
    "    return fig\n",
    "plot_hotel_cluster_popularity()"
   ]
  },
  {
   "cell_type": "code",
   "execution_count": null,
   "metadata": {},
   "outputs": [],
   "source": [
    "def plot_orig_destination_distance():\n",
    "    return px.histogram(train.sample(500000), x='orig_destination_distance', nbins=100, \n",
    "                        title='Distance from origin to destination')\n",
    "plot_orig_destination_distance()"
   ]
  },
  {
   "cell_type": "code",
   "execution_count": null,
   "metadata": {},
   "outputs": [],
   "source": [
    "def plot_avg_distance_booking():\n",
    "    df = train.groupby(['user_id', 'is_booking'])['orig_destination_distance'].mean()\n",
    "    df = df.reset_index().rename(columns={'orig_destination_distance': 'avg distance to destination'})\n",
    "    fig = px.histogram(df, x='avg distance to destination', color='is_booking', histnorm='percent', nbins=100,\n",
    "                      barmode='group', title='Distance to destination')\n",
    "    fig['layout']['yaxis']['title'] = 'Percent'\n",
    "    return fig\n",
    "plot_avg_distance_booking()"
   ]
  },
  {
   "cell_type": "code",
   "execution_count": null,
   "metadata": {},
   "outputs": [],
   "source": [
    "def dist_to_destination_by_hotel_group():\n",
    "    df = train.groupby(['hotel_cluster', 'is_booking'])['orig_destination_distance'].median()\n",
    "    df = df.reset_index().rename(columns={'orig_destination_distance': 'median distance'})\n",
    "    df = df.sort_values('median distance', ascending=False)\n",
    "    df['is_booking'] = df['is_booking'].astype('category')\n",
    "    fig = px.bar(df, x='hotel_cluster', y='median distance', color='is_booking', title='Distance', barmode='group')\n",
    "    fig.update_xaxes(type='category')\n",
    "    return fig\n",
    "dist_to_destination_by_hotel_group()"
   ]
  },
  {
   "cell_type": "code",
   "execution_count": null,
   "metadata": {},
   "outputs": [],
   "source": [
    "def plot_search_duration():\n",
    "    sample = train.sample(500000)\n",
    "    fig = px.histogram(sample[sample['srch_duration'] < 30], x='srch_duration', nbins=100, histnorm='percent', \n",
    "                        title='Search Duration')\n",
    "    fig['layout']['yaxis']['title'] = 'Percent'\n",
    "    return fig\n",
    "plot_search_duration()"
   ]
  },
  {
   "cell_type": "code",
   "execution_count": null,
   "metadata": {},
   "outputs": [],
   "source": [
    "def plot_search_duration_by_hotel():\n",
    "    df = train.groupby(['hotel_cluster'])['srch_duration'].mean() \\\n",
    "        .reset_index().rename(columns={'srch_duration': 'mean search duration'})\n",
    "    df = df.sort_values('mean search duration', ascending=False)\n",
    "    fig = px.bar(df, x='hotel_cluster', y='mean search duration',\n",
    "                        title='Search Duration')\n",
    "    fig.update_xaxes(type='category')\n",
    "    return fig\n",
    "plot_search_duration_by_hotel()"
   ]
  },
  {
   "cell_type": "code",
   "execution_count": null,
   "metadata": {},
   "outputs": [],
   "source": [
    "def plot_kids_hotels():\n",
    "    df = train.groupby(['hotel_cluster', 'has_kids'])['is_booking'].mean() \\\n",
    "        .reset_index().rename(columns={'is_booking': 'book rate'})\n",
    "    df = df.sort_values('book rate', ascending=False)\n",
    "#     df['is_booking'] = df['is_booking'].astype('category')\n",
    "    fig = px.bar(df, x='hotel_cluster', y='book rate',\n",
    "                        color='has_kids', title='Popularity by kids', barmode='group')\n",
    "    fig.update_xaxes(type='category')\n",
    "    return fig\n",
    "plot_kids_hotels()"
   ]
  },
  {
   "cell_type": "code",
   "execution_count": null,
   "metadata": {},
   "outputs": [],
   "source": [
    "def book_rate_kids():\n",
    "    df = train.groupby(['has_kids', 'user_id']).size() \\\n",
    "        .reset_index().rename(columns={0: 'num interactions'})\n",
    "    fig = px.histogram(df[df['num interactions'] < 60], x='num interactions', \n",
    "                       color='has_kids', histnorm='percent', nbins=100, barmode='group')\n",
    "    fig['layout']['yaxis']['title'] = 'Percent'\n",
    "    return fig\n",
    "book_rate_kids()"
   ]
  },
  {
   "cell_type": "code",
   "execution_count": null,
   "metadata": {},
   "outputs": [],
   "source": [
    "def plot_repeat_bookings():\n",
    "    df = train[train['is_booking'] == 1].groupby(['hotel_cluster', 'user_id']).size() \\\n",
    "        .reset_index().rename(columns={0: 'num bookings'})\n",
    "    df = df[df['num bookings'] < 20]\n",
    "    fig = px.histogram(df, x='num bookings', histnorm='percent', title='Number of rebookings')\n",
    "    fig['layout']['yaxis']['title'] = 'Percent'\n",
    "    return fig\n",
    "plot_repeat_bookings()"
   ]
  },
  {
   "cell_type": "code",
   "execution_count": null,
   "metadata": {},
   "outputs": [],
   "source": [
    "train.isnull().any()"
   ]
  },
  {
   "cell_type": "code",
   "execution_count": null,
   "metadata": {},
   "outputs": [],
   "source": [
    "train['hotel_market'].nunique()"
   ]
  }
 ],
 "metadata": {
  "kernelspec": {
   "display_name": "Python 3",
   "language": "python",
   "name": "python3"
  },
  "language_info": {
   "codemirror_mode": {
    "name": "ipython",
    "version": 3
   },
   "file_extension": ".py",
   "mimetype": "text/x-python",
   "name": "python",
   "nbconvert_exporter": "python",
   "pygments_lexer": "ipython3",
   "version": "3.7.6"
  }
 },
 "nbformat": 4,
 "nbformat_minor": 4
}
